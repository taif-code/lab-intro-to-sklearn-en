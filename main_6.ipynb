{
  "cells": [
    {
      "cell_type": "markdown",
      "metadata": {
        "id": "SjdtDmSBYLZP"
      },
      "source": [
        "# Before your start:\n",
        "- Read the README.md file\n",
        "- Comment as much as you can and use the resources in the README.md file\n",
        "- Happy learning!"
      ]
    },
    {
      "cell_type": "code",
      "execution_count": null,
      "metadata": {
        "id": "KmdXAxhPYLZS"
      },
      "outputs": [],
      "source": [
        "# Import your libraries:\n",
        "import pandas as pd\n",
        "from sklearn.datasets import load_diabetes"
      ]
    },
    {
      "cell_type": "markdown",
      "metadata": {
        "id": "RmvFU0FUYLZT"
      },
      "source": [
        "# Challenge 1 - Explore the Scikit-Learn Datasets\n",
        "\n",
        "Before starting to work on our own datasets, let's first explore the datasets that are included in this Python library. These datasets have been cleaned and formatted for use in ML algorithms."
      ]
    },
    {
      "cell_type": "markdown",
      "metadata": {
        "id": "spZi7cd7YLZU"
      },
      "source": [
        "First, we will load the diabetes dataset. Do this in the cell below by importing the datasets and then loading the dataset  to the `diabetes` variable using the `load_diabetes()` function."
      ]
    },
    {
      "cell_type": "code",
      "execution_count": null,
      "metadata": {
        "id": "nHgrSrRyYLZU",
        "outputId": "816d5122-7b89-4bfd-8702-88c140fd4071"
      },
      "outputs": [
        {
          "name": "stdout",
          "output_type": "stream",
          "text": [
            "dict_keys(['data', 'target', 'frame', 'DESCR', 'feature_names', 'data_filename', 'target_filename', 'data_module'])\n"
          ]
        }
      ],
      "source": [
        "# Import necessary libraries\n",
        "from sklearn import datasets\n",
        "\n",
        "# Load the diabetes dataset\n",
        "diabetes = datasets.load_diabetes()\n",
        "\n",
        "# Display dataset keys\n",
        "print(diabetes.keys())\n"
      ]
    },
    {
      "cell_type": "markdown",
      "metadata": {
        "id": "dUuVCVrgYLZV"
      },
      "source": [
        "Let's explore this variable by looking at the different attributes. Do this by looking at the `keys()` of this variable."
      ]
    },
    {
      "cell_type": "code",
      "execution_count": null,
      "metadata": {
        "id": "KYgnTY_8YLZW",
        "outputId": "10d09177-c840-4eee-ddb1-f1a482e4c086"
      },
      "outputs": [
        {
          "name": "stdout",
          "output_type": "stream",
          "text": [
            "dict_keys(['data', 'target', 'frame', 'DESCR', 'feature_names', 'data_filename', 'target_filename', 'data_module'])\n"
          ]
        }
      ],
      "source": [
        "# Import necessary library\n",
        "from sklearn import datasets\n",
        "\n",
        "# Load the diabetes dataset\n",
        "diabetes = datasets.load_diabetes()\n",
        "\n",
        "# Display dataset keys\n",
        "print(diabetes.keys())\n"
      ]
    },
    {
      "cell_type": "markdown",
      "metadata": {
        "id": "u8Mhl2OQYLZX"
      },
      "source": [
        "The next step is to read the description of the dataset. Print the description in the cell below using the `DESCR` attribute of the `diabetes` variable"
      ]
    },
    {
      "cell_type": "code",
      "execution_count": null,
      "metadata": {
        "id": "PiDzaPooYLZX",
        "outputId": "2b58e566-7e9b-42e2-c7b9-aca588eba216"
      },
      "outputs": [
        {
          "name": "stdout",
          "output_type": "stream",
          "text": [
            ".. _diabetes_dataset:\n",
            "\n",
            "Diabetes dataset\n",
            "----------------\n",
            "\n",
            "Ten baseline variables, age, sex, body mass index, average blood\n",
            "pressure, and six blood serum measurements were obtained for each of n =\n",
            "442 diabetes patients, as well as the response of interest, a\n",
            "quantitative measure of disease progression one year after baseline.\n",
            "\n",
            "**Data Set Characteristics:**\n",
            "\n",
            ":Number of Instances: 442\n",
            "\n",
            ":Number of Attributes: First 10 columns are numeric predictive values\n",
            "\n",
            ":Target: Column 11 is a quantitative measure of disease progression one year after baseline\n",
            "\n",
            ":Attribute Information:\n",
            "    - age     age in years\n",
            "    - sex\n",
            "    - bmi     body mass index\n",
            "    - bp      average blood pressure\n",
            "    - s1      tc, total serum cholesterol\n",
            "    - s2      ldl, low-density lipoproteins\n",
            "    - s3      hdl, high-density lipoproteins\n",
            "    - s4      tch, total cholesterol / HDL\n",
            "    - s5      ltg, possibly log of serum triglycerides level\n",
            "    - s6      glu, blood sugar level\n",
            "\n",
            "Note: Each of these 10 feature variables have been mean centered and scaled by the standard deviation times the square root of `n_samples` (i.e. the sum of squares of each column totals 1).\n",
            "\n",
            "Source URL:\n",
            "https://www4.stat.ncsu.edu/~boos/var.select/diabetes.html\n",
            "\n",
            "For more information see:\n",
            "Bradley Efron, Trevor Hastie, Iain Johnstone and Robert Tibshirani (2004) \"Least Angle Regression,\" Annals of Statistics (with discussion), 407-499.\n",
            "(https://web.stanford.edu/~hastie/Papers/LARS/LeastAngle_2002.pdf)\n",
            "\n"
          ]
        }
      ],
      "source": [
        "# Print the description of the dataset\n",
        "print(diabetes.DESCR)\n"
      ]
    },
    {
      "cell_type": "markdown",
      "metadata": {
        "id": "EyhcRMHQYLZY"
      },
      "source": [
        "What are the variables in this dataset according to the description? List them in the markdown cell below"
      ]
    },
    {
      "cell_type": "markdown",
      "metadata": {
        "id": "HTGNP_zXYLZY"
      },
      "source": [
        "   - age     age in years\n",
        "      - sex\n",
        "      - bmi     body mass index\n",
        "      - bp      average blood pressure\n",
        "      - s1      tc, total serum cholesterol\n",
        "      - s2      ldl, low-density lipoproteins\n",
        "      - s3      hdl, high-density lipoproteins\n",
        "      - s4      tch, total cholesterol / HDL\n",
        "      - s5      ltg, possibly log of serum triglycerides level\n",
        "      - s6      glu, blood sugar level"
      ]
    },
    {
      "cell_type": "markdown",
      "metadata": {
        "id": "ah0gxXHYYLZZ"
      },
      "source": [
        "#### Enter your answer here:\n",
        "\n",
        "age, sex, body mass index, average blood pressure, s1, s2, s3, s4, s5, s6\n",
        "\n",
        "\n"
      ]
    },
    {
      "cell_type": "markdown",
      "metadata": {
        "id": "1_tQNBJIYLZZ"
      },
      "source": [
        "Now explore the data. Scikit-learn typically takes in 2D numpy arrays as input (though pandas dataframes are also accepted). In the cell below find the shape of the numpy array contained in the data portion of the diabetes variable."
      ]
    },
    {
      "cell_type": "code",
      "execution_count": null,
      "metadata": {
        "id": "GlF_1Ek1YLZa",
        "outputId": "eb21f81a-32f4-4f53-dc33-dd22c71c108c"
      },
      "outputs": [
        {
          "name": "stdout",
          "output_type": "stream",
          "text": [
            "Shape of the data: (442, 10)\n"
          ]
        }
      ],
      "source": [
        "# Import the necessary module\n",
        "from sklearn.datasets import load_diabetes\n",
        "\n",
        "# Load the diabetes dataset\n",
        "diabetes = load_diabetes()\n",
        "\n",
        "# Get the shape of the data portion\n",
        "print(\"Shape of the data:\", diabetes.data.shape)\n"
      ]
    },
    {
      "cell_type": "markdown",
      "metadata": {
        "id": "fpddhbbcYLZa"
      },
      "source": [
        "# Challenge 2 - Perform Supervised Learning on the Dataset"
      ]
    },
    {
      "cell_type": "markdown",
      "metadata": {
        "id": "LOrhFIhTYLZb"
      },
      "source": [
        "#### The data has already been split to predictor and response variables. The response variable is in the `target` portion of the variable.\n",
        "\n",
        "Given this information, let's apply what we have previously learned about linear regression and apply the algorithm to the diabetes dataset. In the cell below, import the linear regression class from sklearn."
      ]
    },
    {
      "cell_type": "code",
      "execution_count": null,
      "metadata": {
        "id": "Kg0X_0qKYLZc"
      },
      "outputs": [],
      "source": [
        "# Import the LinearRegression class\n",
        "from sklearn.linear_model import LinearRegression\n"
      ]
    },
    {
      "cell_type": "markdown",
      "metadata": {
        "id": "CnEQBaDKYLZc"
      },
      "source": [
        "Initialize the model in the variable `diabetes_model`"
      ]
    },
    {
      "cell_type": "code",
      "execution_count": null,
      "metadata": {
        "id": "5vl1wi3SYLZd"
      },
      "outputs": [],
      "source": [
        "# Import the LinearRegression class\n",
        "from sklearn.linear_model import LinearRegression\n",
        "\n",
        "# Initialize the model\n",
        "diabetes_model = LinearRegression()\n"
      ]
    },
    {
      "cell_type": "markdown",
      "metadata": {
        "id": "vHUoYWkSYLZe"
      },
      "source": [
        "In the cell below, fit the model and print the intercept and coefficients of the model."
      ]
    },
    {
      "cell_type": "code",
      "execution_count": null,
      "metadata": {
        "id": "jTqddHfOYLZe",
        "outputId": "ef262878-57b6-47ac-c92d-462a0ec89c19"
      },
      "outputs": [
        {
          "name": "stdout",
          "output_type": "stream",
          "text": [
            "Intercept: 151.34560453985995\n",
            "Coefficients: [  37.90402135 -241.96436231  542.42875852  347.70384391 -931.48884588\n",
            "  518.06227698  163.41998299  275.31790158  736.1988589    48.67065743]\n"
          ]
        }
      ],
      "source": [
        "# Import necessary libraries\n",
        "from sklearn.datasets import load_diabetes\n",
        "from sklearn.model_selection import train_test_split\n",
        "from sklearn.linear_model import LinearRegression\n",
        "\n",
        "# Load the diabetes dataset\n",
        "diabetes = load_diabetes()\n",
        "\n",
        "# Split the dataset into predictor variables (X) and response variable (y)\n",
        "X = diabetes.data\n",
        "y = diabetes.target\n",
        "\n",
        "# Split into training and testing sets (optional but recommended)\n",
        "X_train, X_test, y_train, y_test = train_test_split(X, y, test_size=0.2, random_state=42)\n",
        "\n",
        "# Initialize the model\n",
        "diabetes_model = LinearRegression()\n",
        "\n",
        "# Fit the model\n",
        "diabetes_model.fit(X_train, y_train)\n",
        "\n",
        "# Print the intercept and coefficients\n",
        "print(\"Intercept:\", diabetes_model.intercept_)\n",
        "print(\"Coefficients:\", diabetes_model.coef_)\n"
      ]
    },
    {
      "cell_type": "markdown",
      "metadata": {
        "id": "IQIY-BnuYLZf"
      },
      "source": [
        "# Bonus Challenge 1 - Conduct a Hypothesis Test on the Model\n",
        "\n",
        "Once we have generated a linear model, we can test each coefficient using a t-test to see whether the confidence interval for the variable contains zero. We can also perform an overall F test to check whether at least one coefficient is significantly different from zero.\n",
        "\n",
        "Refer to the resource in this [link](https://onlinecourses.science.psu.edu/stat501/node/297/) for more details and perform the t-tests for the model above. Additionally, interpret the results and list coefficients are significantly different from zero.\n",
        "\n",
        "\n",
        "Hint: use the statsmodels package.\n",
        "\n",
        "Result should look like this:\n",
        "\n",
        "![image.png](attachment:image.png)"
      ]
    },
    {
      "cell_type": "code",
      "execution_count": null,
      "metadata": {
        "id": "UmvGLL0ZYLZg",
        "outputId": "36e667b5-fd2c-4eaa-8e1d-a967e6ab4798"
      },
      "outputs": [
        {
          "name": "stderr",
          "output_type": "stream",
          "text": [
            "python(33996) MallocStackLogging: can't turn off malloc stack logging because it was not enabled.\n"
          ]
        },
        {
          "name": "stdout",
          "output_type": "stream",
          "text": [
            "                            OLS Regression Results                            \n",
            "==============================================================================\n",
            "Dep. Variable:                      y   R-squared:                       0.528\n",
            "Model:                            OLS   Adj. R-squared:                  0.514\n",
            "Method:                 Least Squares   F-statistic:                     38.25\n",
            "Date:                Sun, 09 Mar 2025   Prob (F-statistic):           5.41e-50\n",
            "Time:                        02:24:53   Log-Likelihood:                -1906.1\n",
            "No. Observations:                 353   AIC:                             3834.\n",
            "Df Residuals:                     342   BIC:                             3877.\n",
            "Df Model:                          10                                         \n",
            "Covariance Type:            nonrobust                                         \n",
            "==============================================================================\n",
            "                 coef    std err          t      P>|t|      [0.025      0.975]\n",
            "------------------------------------------------------------------------------\n",
            "const        151.3456      2.902     52.155      0.000     145.638     157.053\n",
            "x1            37.9040     69.056      0.549      0.583     -97.923     173.731\n",
            "x2          -241.9644     68.570     -3.529      0.000    -376.836    -107.093\n",
            "x3           542.4288     76.956      7.049      0.000     391.062     693.795\n",
            "x4           347.7038     71.357      4.873      0.000     207.350     488.057\n",
            "x5          -931.4888    451.138     -2.065      0.040   -1818.844     -44.134\n",
            "x6           518.0623    364.114      1.423      0.156    -198.122    1234.247\n",
            "x7           163.4200    233.014      0.701      0.484    -294.901     621.741\n",
            "x8           275.3179    185.400      1.485      0.138     -89.349     639.985\n",
            "x9           736.1989    192.437      3.826      0.000     357.689    1114.709\n",
            "x10           48.6707     73.435      0.663      0.508     -95.771     193.113\n",
            "==============================================================================\n",
            "Omnibus:                        1.457   Durbin-Watson:                   1.794\n",
            "Prob(Omnibus):                  0.483   Jarque-Bera (JB):                1.412\n",
            "Skew:                           0.064   Prob(JB):                        0.494\n",
            "Kurtosis:                       2.718   Cond. No.                         219.\n",
            "==============================================================================\n",
            "\n",
            "Notes:\n",
            "[1] Standard Errors assume that the covariance matrix of the errors is correctly specified.\n"
          ]
        }
      ],
      "source": [
        "import statsmodels.api as sm\n",
        "from sklearn.datasets import load_diabetes\n",
        "from sklearn.model_selection import train_test_split\n",
        "\n",
        "# Load the diabetes dataset\n",
        "diabetes = load_diabetes()\n",
        "X = diabetes.data\n",
        "y = diabetes.target\n",
        "\n",
        "# Add a constant to the predictor variables (required for intercept in OLS)\n",
        "X = sm.add_constant(X)\n",
        "\n",
        "# Split into training and testing sets\n",
        "X_train, X_test, y_train, y_test = train_test_split(X, y, test_size=0.2, random_state=42)\n",
        "\n",
        "# Fit the OLS model\n",
        "model = sm.OLS(y_train, X_train).fit()\n",
        "\n",
        "# Print the summary\n",
        "print(model.summary())\n",
        "\n"
      ]
    },
    {
      "cell_type": "markdown",
      "metadata": {
        "id": "snpu52PpYLZh"
      },
      "source": [
        "# Challenge 3 - Peform Supervised Learning on a Pandas Dataframe"
      ]
    },
    {
      "cell_type": "markdown",
      "metadata": {
        "id": "IkHC1ZenYLZh"
      },
      "source": [
        "Now that we have looked at data that has been formatted for scikit-learn, let's look at data that we will need to format ourselves.\n",
        "\n",
        "In the next cell, load the `auto-mpg.csv` file included in this folder and assign it to a variable called `auto`."
      ]
    },
    {
      "cell_type": "code",
      "execution_count": 1,
      "metadata": {
        "colab": {
          "base_uri": "https://localhost:8080/"
        },
        "id": "5SVEZ2hFYLZi",
        "outputId": "5f558b93-fc0f-4335-ea1a-7f7b0f5b4fb7"
      },
      "outputs": [
        {
          "output_type": "stream",
          "name": "stdout",
          "text": [
            "   Unnamed: 0 manufacturer model  displ  year  cyl       trans drv  cty  hwy  \\\n",
            "0           1         audi    a4    1.8  1999    4    auto(l5)   f   18   29   \n",
            "1           2         audi    a4    1.8  1999    4  manual(m5)   f   21   29   \n",
            "2           3         audi    a4    2.0  2008    4  manual(m6)   f   20   31   \n",
            "3           4         audi    a4    2.0  2008    4    auto(av)   f   21   30   \n",
            "4           5         audi    a4    2.8  1999    6    auto(l5)   f   16   26   \n",
            "\n",
            "  fl    class  \n",
            "0  p  compact  \n",
            "1  p  compact  \n",
            "2  p  compact  \n",
            "3  p  compact  \n",
            "4  p  compact  \n"
          ]
        }
      ],
      "source": [
        "# Import the necessary library\n",
        "import pandas as pd\n",
        "\n",
        "# Load the CSV file (make sure the file is in the same directory or provide the full path)\n",
        "auto = pd.read_csv('auto-mpg.csv')\n",
        "\n",
        "# Display the first few rows to check the data\n",
        "print(auto.head())\n"
      ]
    },
    {
      "cell_type": "markdown",
      "metadata": {
        "id": "Zw-JgK6TYLZj"
      },
      "source": [
        "Look at the first 5 rows using the `head()` function:"
      ]
    },
    {
      "cell_type": "code",
      "execution_count": 2,
      "metadata": {
        "colab": {
          "base_uri": "https://localhost:8080/"
        },
        "id": "4nQ0HYr0YLZj",
        "outputId": "40b59a1d-f767-4f1f-8387-9956bf9788b9"
      },
      "outputs": [
        {
          "output_type": "stream",
          "name": "stdout",
          "text": [
            "   Unnamed: 0 manufacturer model  displ  year  cyl       trans drv  cty  hwy  \\\n",
            "0           1         audi    a4    1.8  1999    4    auto(l5)   f   18   29   \n",
            "1           2         audi    a4    1.8  1999    4  manual(m5)   f   21   29   \n",
            "2           3         audi    a4    2.0  2008    4  manual(m6)   f   20   31   \n",
            "3           4         audi    a4    2.0  2008    4    auto(av)   f   21   30   \n",
            "4           5         audi    a4    2.8  1999    6    auto(l5)   f   16   26   \n",
            "\n",
            "  fl    class  \n",
            "0  p  compact  \n",
            "1  p  compact  \n",
            "2  p  compact  \n",
            "3  p  compact  \n",
            "4  p  compact  \n"
          ]
        }
      ],
      "source": [
        "print(auto.head())\n"
      ]
    },
    {
      "cell_type": "markdown",
      "metadata": {
        "id": "BcfG8E6BYLZj"
      },
      "source": [
        "Evaluate the data to ensure that all numeric columns are correctly detected as such by pandas. If a column is misclassified as object, coerce it to numeric."
      ]
    },
    {
      "cell_type": "code",
      "execution_count": 3,
      "metadata": {
        "colab": {
          "base_uri": "https://localhost:8080/"
        },
        "id": "uiVDG2VWYLZk",
        "outputId": "f900ecd1-3c65-4af8-c5b8-11dc4a80c2b9"
      },
      "outputs": [
        {
          "output_type": "stream",
          "name": "stdout",
          "text": [
            "Unnamed: 0        int64\n",
            "manufacturer     object\n",
            "model            object\n",
            "displ           float64\n",
            "year              int64\n",
            "cyl               int64\n",
            "trans            object\n",
            "drv              object\n",
            "cty               int64\n",
            "hwy               int64\n",
            "fl               object\n",
            "class            object\n",
            "dtype: object\n",
            "Unnamed: 0        int64\n",
            "manufacturer    float64\n",
            "model           float64\n",
            "displ           float64\n",
            "year              int64\n",
            "cyl               int64\n",
            "trans           float64\n",
            "drv             float64\n",
            "cty               int64\n",
            "hwy               int64\n",
            "fl              float64\n",
            "class           float64\n",
            "dtype: object\n"
          ]
        }
      ],
      "source": [
        "print(auto.dtypes)\n",
        "auto = auto.apply(pd.to_numeric, errors='coerce')\n",
        "print(auto.dtypes)\n"
      ]
    },
    {
      "cell_type": "markdown",
      "metadata": {
        "id": "aMRVQI_aYLZk"
      },
      "source": [
        "What is the newest model year and the oldest model year?"
      ]
    },
    {
      "cell_type": "code",
      "execution_count": 7,
      "metadata": {
        "colab": {
          "base_uri": "https://localhost:8080/",
          "height": 673
        },
        "id": "hFH4ujFCYLZk",
        "outputId": "b429c6d9-9097-499f-939b-66d9ba114d15"
      },
      "outputs": [
        {
          "output_type": "error",
          "ename": "KeyError",
          "evalue": "'model year'",
          "traceback": [
            "\u001b[0;31m---------------------------------------------------------------------------\u001b[0m",
            "\u001b[0;31mKeyError\u001b[0m                                  Traceback (most recent call last)",
            "\u001b[0;32m/usr/local/lib/python3.11/dist-packages/pandas/core/indexes/base.py\u001b[0m in \u001b[0;36mget_loc\u001b[0;34m(self, key)\u001b[0m\n\u001b[1;32m   3804\u001b[0m         \u001b[0;32mtry\u001b[0m\u001b[0;34m:\u001b[0m\u001b[0;34m\u001b[0m\u001b[0;34m\u001b[0m\u001b[0m\n\u001b[0;32m-> 3805\u001b[0;31m             \u001b[0;32mreturn\u001b[0m \u001b[0mself\u001b[0m\u001b[0;34m.\u001b[0m\u001b[0m_engine\u001b[0m\u001b[0;34m.\u001b[0m\u001b[0mget_loc\u001b[0m\u001b[0;34m(\u001b[0m\u001b[0mcasted_key\u001b[0m\u001b[0;34m)\u001b[0m\u001b[0;34m\u001b[0m\u001b[0;34m\u001b[0m\u001b[0m\n\u001b[0m\u001b[1;32m   3806\u001b[0m         \u001b[0;32mexcept\u001b[0m \u001b[0mKeyError\u001b[0m \u001b[0;32mas\u001b[0m \u001b[0merr\u001b[0m\u001b[0;34m:\u001b[0m\u001b[0;34m\u001b[0m\u001b[0;34m\u001b[0m\u001b[0m\n",
            "\u001b[0;32mindex.pyx\u001b[0m in \u001b[0;36mpandas._libs.index.IndexEngine.get_loc\u001b[0;34m()\u001b[0m\n",
            "\u001b[0;32mindex.pyx\u001b[0m in \u001b[0;36mpandas._libs.index.IndexEngine.get_loc\u001b[0;34m()\u001b[0m\n",
            "\u001b[0;32mpandas/_libs/hashtable_class_helper.pxi\u001b[0m in \u001b[0;36mpandas._libs.hashtable.PyObjectHashTable.get_item\u001b[0;34m()\u001b[0m\n",
            "\u001b[0;32mpandas/_libs/hashtable_class_helper.pxi\u001b[0m in \u001b[0;36mpandas._libs.hashtable.PyObjectHashTable.get_item\u001b[0;34m()\u001b[0m\n",
            "\u001b[0;31mKeyError\u001b[0m: 'model year'",
            "\nThe above exception was the direct cause of the following exception:\n",
            "\u001b[0;31mKeyError\u001b[0m                                  Traceback (most recent call last)",
            "\u001b[0;32m<ipython-input-7-ef2872d1da6e>\u001b[0m in \u001b[0;36m<cell line: 0>\u001b[0;34m()\u001b[0m\n\u001b[1;32m      1\u001b[0m \u001b[0;31m# Assuming the model year column is named 'model year' (Check with auto.columns if unsure)\u001b[0m\u001b[0;34m\u001b[0m\u001b[0;34m\u001b[0m\u001b[0m\n\u001b[0;32m----> 2\u001b[0;31m \u001b[0moldest_year\u001b[0m \u001b[0;34m=\u001b[0m \u001b[0mauto\u001b[0m\u001b[0;34m[\u001b[0m\u001b[0;34m\"model year\"\u001b[0m\u001b[0;34m]\u001b[0m\u001b[0;34m.\u001b[0m\u001b[0mmin\u001b[0m\u001b[0;34m(\u001b[0m\u001b[0;34m)\u001b[0m\u001b[0;34m\u001b[0m\u001b[0;34m\u001b[0m\u001b[0m\n\u001b[0m\u001b[1;32m      3\u001b[0m \u001b[0mnewest_year\u001b[0m \u001b[0;34m=\u001b[0m \u001b[0mauto\u001b[0m\u001b[0;34m[\u001b[0m\u001b[0;34m\"model year\"\u001b[0m\u001b[0;34m]\u001b[0m\u001b[0;34m.\u001b[0m\u001b[0mmax\u001b[0m\u001b[0;34m(\u001b[0m\u001b[0;34m)\u001b[0m\u001b[0;34m\u001b[0m\u001b[0;34m\u001b[0m\u001b[0m\n\u001b[1;32m      4\u001b[0m \u001b[0;34m\u001b[0m\u001b[0m\n\u001b[1;32m      5\u001b[0m \u001b[0mprint\u001b[0m\u001b[0;34m(\u001b[0m\u001b[0;34mf\"Oldest Model Year: {oldest_year}\"\u001b[0m\u001b[0;34m)\u001b[0m\u001b[0;34m\u001b[0m\u001b[0;34m\u001b[0m\u001b[0m\n",
            "\u001b[0;32m/usr/local/lib/python3.11/dist-packages/pandas/core/frame.py\u001b[0m in \u001b[0;36m__getitem__\u001b[0;34m(self, key)\u001b[0m\n\u001b[1;32m   4100\u001b[0m             \u001b[0;32mif\u001b[0m \u001b[0mself\u001b[0m\u001b[0;34m.\u001b[0m\u001b[0mcolumns\u001b[0m\u001b[0;34m.\u001b[0m\u001b[0mnlevels\u001b[0m \u001b[0;34m>\u001b[0m \u001b[0;36m1\u001b[0m\u001b[0;34m:\u001b[0m\u001b[0;34m\u001b[0m\u001b[0;34m\u001b[0m\u001b[0m\n\u001b[1;32m   4101\u001b[0m                 \u001b[0;32mreturn\u001b[0m \u001b[0mself\u001b[0m\u001b[0;34m.\u001b[0m\u001b[0m_getitem_multilevel\u001b[0m\u001b[0;34m(\u001b[0m\u001b[0mkey\u001b[0m\u001b[0;34m)\u001b[0m\u001b[0;34m\u001b[0m\u001b[0;34m\u001b[0m\u001b[0m\n\u001b[0;32m-> 4102\u001b[0;31m             \u001b[0mindexer\u001b[0m \u001b[0;34m=\u001b[0m \u001b[0mself\u001b[0m\u001b[0;34m.\u001b[0m\u001b[0mcolumns\u001b[0m\u001b[0;34m.\u001b[0m\u001b[0mget_loc\u001b[0m\u001b[0;34m(\u001b[0m\u001b[0mkey\u001b[0m\u001b[0;34m)\u001b[0m\u001b[0;34m\u001b[0m\u001b[0;34m\u001b[0m\u001b[0m\n\u001b[0m\u001b[1;32m   4103\u001b[0m             \u001b[0;32mif\u001b[0m \u001b[0mis_integer\u001b[0m\u001b[0;34m(\u001b[0m\u001b[0mindexer\u001b[0m\u001b[0;34m)\u001b[0m\u001b[0;34m:\u001b[0m\u001b[0;34m\u001b[0m\u001b[0;34m\u001b[0m\u001b[0m\n\u001b[1;32m   4104\u001b[0m                 \u001b[0mindexer\u001b[0m \u001b[0;34m=\u001b[0m \u001b[0;34m[\u001b[0m\u001b[0mindexer\u001b[0m\u001b[0;34m]\u001b[0m\u001b[0;34m\u001b[0m\u001b[0;34m\u001b[0m\u001b[0m\n",
            "\u001b[0;32m/usr/local/lib/python3.11/dist-packages/pandas/core/indexes/base.py\u001b[0m in \u001b[0;36mget_loc\u001b[0;34m(self, key)\u001b[0m\n\u001b[1;32m   3810\u001b[0m             ):\n\u001b[1;32m   3811\u001b[0m                 \u001b[0;32mraise\u001b[0m \u001b[0mInvalidIndexError\u001b[0m\u001b[0;34m(\u001b[0m\u001b[0mkey\u001b[0m\u001b[0;34m)\u001b[0m\u001b[0;34m\u001b[0m\u001b[0;34m\u001b[0m\u001b[0m\n\u001b[0;32m-> 3812\u001b[0;31m             \u001b[0;32mraise\u001b[0m \u001b[0mKeyError\u001b[0m\u001b[0;34m(\u001b[0m\u001b[0mkey\u001b[0m\u001b[0;34m)\u001b[0m \u001b[0;32mfrom\u001b[0m \u001b[0merr\u001b[0m\u001b[0;34m\u001b[0m\u001b[0;34m\u001b[0m\u001b[0m\n\u001b[0m\u001b[1;32m   3813\u001b[0m         \u001b[0;32mexcept\u001b[0m \u001b[0mTypeError\u001b[0m\u001b[0;34m:\u001b[0m\u001b[0;34m\u001b[0m\u001b[0;34m\u001b[0m\u001b[0m\n\u001b[1;32m   3814\u001b[0m             \u001b[0;31m# If we have a listlike key, _check_indexing_error will raise\u001b[0m\u001b[0;34m\u001b[0m\u001b[0;34m\u001b[0m\u001b[0m\n",
            "\u001b[0;31mKeyError\u001b[0m: 'model year'"
          ]
        }
      ],
      "source": [
        "# Assuming the model year column is named 'model year' (Check with auto.columns if unsure)\n",
        "oldest_year = auto[\"model year\"].min()\n",
        "newest_year = auto[\"model year\"].max()\n",
        "\n",
        "print(f\"Oldest Model Year: {oldest_year}\")\n",
        "print(f\"Newest Model Year: {newest_year}\")\n"
      ]
    },
    {
      "cell_type": "markdown",
      "metadata": {
        "id": "B8Dv5lxlYLZl"
      },
      "source": [
        "Check the dataset for missing values and remove all rows containing at least one missing value."
      ]
    },
    {
      "cell_type": "code",
      "execution_count": 8,
      "metadata": {
        "colab": {
          "base_uri": "https://localhost:8080/"
        },
        "id": "Yu-Vqs5HYLZl",
        "outputId": "71828150-42a8-4cce-c928-1f22f91b2e1c"
      },
      "outputs": [
        {
          "output_type": "stream",
          "name": "stdout",
          "text": [
            "Missing values in each column:\n",
            " Unnamed: 0        0\n",
            "manufacturer    234\n",
            "model           234\n",
            "displ             0\n",
            "year              0\n",
            "cyl               0\n",
            "trans           234\n",
            "drv             131\n",
            "cty               0\n",
            "hwy               0\n",
            "fl              234\n",
            "class           234\n",
            "dtype: int64\n",
            "Rows before cleaning: 234\n",
            "Rows after cleaning: 0\n"
          ]
        }
      ],
      "source": [
        "# Check for missing values in the dataset\n",
        "missing_values = auto.isnull().sum()\n",
        "print(\"Missing values in each column:\\n\", missing_values)\n",
        "# Remove rows with at least one missing value\n",
        "auto_cleaned = auto.dropna()\n",
        "\n",
        "# Display the number of rows before and after cleaning\n",
        "print(f\"Rows before cleaning: {auto.shape[0]}\")\n",
        "print(f\"Rows after cleaning: {auto_cleaned.shape[0]}\")\n"
      ]
    },
    {
      "cell_type": "code",
      "execution_count": 9,
      "metadata": {
        "id": "BirhypDIYLZl"
      },
      "outputs": [],
      "source": [
        "auto.dropna(axis=0, how=\"any\", inplace=True)"
      ]
    },
    {
      "cell_type": "markdown",
      "metadata": {
        "id": "O0i8vUsmYLZm"
      },
      "source": [
        "Find the frequency table for the `cylinders` column using the `value_counts()` function. How many possible values of cylinders are there?"
      ]
    },
    {
      "cell_type": "code",
      "execution_count": 12,
      "metadata": {
        "colab": {
          "base_uri": "https://localhost:8080/"
        },
        "id": "H3bP5VH7YLZm",
        "outputId": "ebcf21c1-9611-4996-adcb-a5352ee371be"
      },
      "outputs": [
        {
          "output_type": "stream",
          "name": "stdout",
          "text": [
            "The 'cylinders' column does not exist in the DataFrame after dropping rows with missing values.\n"
          ]
        }
      ],
      "source": [
        "import pandas as pd\n",
        "\n",
        "# Load the dataset\n",
        "auto = pd.read_csv(\"auto-mpg.csv\")  # Adjust the path as needed\n",
        "\n",
        "# Check for missing values and remove rows containing at least one missing value\n",
        "auto.dropna(axis=0, how=\"any\", inplace=True) #this will drop all rows with missing data\n",
        "\n",
        "\n",
        "# Find the frequency table for the 'cylinders' column\n",
        "# Check if the 'cylinders' column still exists after dropping rows\n",
        "if 'cylinders' in auto.columns:\n",
        "    cylinder_counts = auto['cylinders'].value_counts()\n",
        "    print(\"Frequency table for cylinders:\\n\", cylinder_counts)\n",
        "\n",
        "    # Find the number of unique values in the 'cylinders' column\n",
        "    num_unique_cylinders = auto['cylinders'].nunique()\n",
        "    print(f\"Number of possible values for cylinders: {num_unique_cylinders}\")\n",
        "else:\n",
        "    print(\"The 'cylinders' column does not exist in the DataFrame after dropping rows with missing values.\")"
      ]
    },
    {
      "cell_type": "markdown",
      "metadata": {
        "id": "mtK7gPUdYLZm"
      },
      "source": [
        "We would like to generate a linear regression model that will predict mpg. To do this, first drop the `car_name` column since it does not contain any quantitative data. Next separate the dataframe to predictor and response variables. Separate those into test and training data with 80% of the data in the training set and the remainder in the test set.\n",
        "\n",
        "Assign the predictor and response training data to `X_train` and `y_train` respectively. Similarly, assign the predictor and response test data to `X_test` and `y_test`."
      ]
    },
    {
      "cell_type": "code",
      "execution_count": 21,
      "metadata": {
        "colab": {
          "base_uri": "https://localhost:8080/"
        },
        "id": "SW8zjA9HYLZn",
        "outputId": "cb7e4664-3d6f-4b60-c70b-7298b1a4f2b3"
      },
      "outputs": [
        {
          "output_type": "stream",
          "name": "stdout",
          "text": [
            "Columns before cleaning: Index(['Unnamed: 0', 'manufacturer', 'model', 'displ', 'year', 'cyl', 'trans',\n",
            "       'drv', 'cty', 'hwy', 'fl', 'class'],\n",
            "      dtype='object')\n",
            "First few rows of the dataset:\n",
            "    Unnamed: 0 manufacturer model  displ  year  cyl       trans drv  cty  hwy  \\\n",
            "0           1         audi    a4    1.8  1999    4    auto(l5)   f   18   29   \n",
            "1           2         audi    a4    1.8  1999    4  manual(m5)   f   21   29   \n",
            "2           3         audi    a4    2.0  2008    4  manual(m6)   f   20   31   \n",
            "3           4         audi    a4    2.0  2008    4    auto(av)   f   21   30   \n",
            "4           5         audi    a4    2.8  1999    6    auto(l5)   f   16   26   \n",
            "\n",
            "  fl    class  \n",
            "0  p  compact  \n",
            "1  p  compact  \n",
            "2  p  compact  \n",
            "3  p  compact  \n",
            "4  p  compact  \n",
            "'mpg' column not found in the dataset. Please check the dataset.\n"
          ]
        }
      ],
      "source": [
        "import pandas as pd\n",
        "from sklearn.model_selection import train_test_split\n",
        "\n",
        "# Load the dataset\n",
        "auto = pd.read_csv(\"auto-mpg.csv\")  # Adjust the path as needed\n",
        "\n",
        "# Check and print the column names to confirm the correct name\n",
        "print(\"Columns before cleaning:\", auto.columns)\n",
        "\n",
        "# Strip leading/trailing whitespaces from column names to ensure correct case and remove extra spaces\n",
        "auto.columns = auto.columns.str.strip()\n",
        "\n",
        "# Display the first few rows of the dataset to inspect\n",
        "print(\"First few rows of the dataset:\\n\", auto.head())\n",
        "\n",
        "# Check if 'mpg' column exists\n",
        "if 'mpg' in auto.columns:\n",
        "    # Drop the 'car_name' column if it exists (we'll check it explicitly)\n",
        "    if 'car_name' in auto.columns:\n",
        "        auto = auto.drop(columns=['car_name'])\n",
        "\n",
        "    # Now, separate predictors (X) and response variable (y)\n",
        "    X = auto.drop(columns=['mpg'])  # 'mpg' is the response variable\n",
        "    y = auto['mpg']  # 'mpg' is the response variable\n",
        "\n",
        "    # Split the data into training and test sets (80% for training, 20% for testing)\n",
        "    X_train, X_test, y_train, y_test = train_test_split(X, y, test_size=0.2, random_state=42)\n",
        "\n",
        "    # Display the shapes of the resulting sets to confirm the split\n",
        "    print(f\"Training data (X_train): {X_train.shape}\")\n",
        "    print(f\"Test data (X_test): {X_test.shape}\")\n",
        "    print(f\"Training target (y_train): {y_train.shape}\")\n",
        "    print(f\"Test target (y_test): {y_test.shape}\")\n",
        "else:\n",
        "    print(\"'mpg' column not found in the dataset. Please check the dataset.\")\n"
      ]
    },
    {
      "cell_type": "markdown",
      "metadata": {
        "id": "40icrvT9YLZo"
      },
      "source": [
        "Now we will the dataset that we processed and peform linear regression on this data to predict the mpg for each vehicle. Initialize the model in the cell below."
      ]
    },
    {
      "cell_type": "code",
      "execution_count": 23,
      "metadata": {
        "colab": {
          "base_uri": "https://localhost:8080/"
        },
        "id": "OSlzk6cMYLZo",
        "outputId": "269356e0-f172-4604-ee52-de7be98690df"
      },
      "outputs": [
        {
          "output_type": "stream",
          "name": "stdout",
          "text": [
            "Columns before cleaning: Index(['Unnamed: 0', 'manufacturer', 'model', 'displ', 'year', 'cyl', 'trans',\n",
            "       'drv', 'cty', 'hwy', 'fl', 'class'],\n",
            "      dtype='object')\n",
            "First few rows of the dataset:\n",
            "    Unnamed: 0 manufacturer model  displ  year  cyl       trans drv  cty  hwy  \\\n",
            "0           1         audi    a4    1.8  1999    4    auto(l5)   f   18   29   \n",
            "1           2         audi    a4    1.8  1999    4  manual(m5)   f   21   29   \n",
            "2           3         audi    a4    2.0  2008    4  manual(m6)   f   20   31   \n",
            "3           4         audi    a4    2.0  2008    4    auto(av)   f   21   30   \n",
            "4           5         audi    a4    2.8  1999    6    auto(l5)   f   16   26   \n",
            "\n",
            "  fl    class  \n",
            "0  p  compact  \n",
            "1  p  compact  \n",
            "2  p  compact  \n",
            "3  p  compact  \n",
            "4  p  compact  \n",
            "'mpg' column not found in the dataset. Please check the dataset.\n"
          ]
        }
      ],
      "source": [
        "import pandas as pd\n",
        "from sklearn.model_selection import train_test_split\n",
        "from sklearn.linear_model import LinearRegression\n",
        "\n",
        "# Load the dataset\n",
        "auto = pd.read_csv(\"auto-mpg.csv\")  # Adjust the path as needed\n",
        "\n",
        "# Check and print the column names to confirm the correct name\n",
        "print(\"Columns before cleaning:\", auto.columns)\n",
        "\n",
        "# Strip leading/trailing whitespaces from column names to ensure correct case and remove extra spaces\n",
        "auto.columns = auto.columns.str.strip()\n",
        "\n",
        "# Display the first few rows of the dataset to inspect\n",
        "print(\"First few rows of the dataset:\\n\", auto.head())\n",
        "\n",
        "# Check if 'mpg' column exists\n",
        "if 'mpg' in auto.columns:\n",
        "    # Drop the 'car_name' column if it exists (we'll check it explicitly)\n",
        "    if 'car_name' in auto.columns:\n",
        "        auto = auto.drop(columns=['car_name'])\n",
        "\n",
        "    # Now, separate predictors (X) and response variable (y)\n",
        "    X = auto.drop(columns=['mpg'])  # 'mpg' is the response variable\n",
        "    y = auto['mpg']  # 'mpg' is the response variable\n",
        "\n",
        "    # Split the data into training and test sets (80% for training, 20% for testing)\n",
        "    X_train, X_test, y_train, y_test = train_test_split(X, y, test_size=0.2, random_state=42)\n",
        "\n",
        "    # Display the shapes of the resulting sets to confirm the split\n",
        "    print(f\"Training data (X_train): {X_train.shape}\")\n",
        "    print(f\"Test data (X_test): {X_test.shape}\")\n",
        "    print(f\"Training target (y_train): {y_train.shape}\")\n",
        "    print(f\"Test target (y_test): {y_test.shape}\")\n",
        "\n",
        "    # Initialize the Linear Regression model\n",
        "    model = LinearRegression()\n",
        "\n",
        "    # Fit the model to the training data\n",
        "    model.fit(X_train, y_train)\n",
        "\n",
        "    # Display the coefficients and intercept of the fitted model\n",
        "    print(\"Coefficients: \", model.coef_)\n",
        "    print(\"Intercept: \", model.intercept_)\n",
        "\n",
        "else:\n",
        "    print(\"'mpg' column not found in the dataset. Please check the dataset.\")"
      ]
    },
    {
      "cell_type": "markdown",
      "metadata": {
        "id": "JbDde5dgYLZo"
      },
      "source": [
        "Next, fit the model in the cell below."
      ]
    },
    {
      "cell_type": "code",
      "execution_count": 25,
      "metadata": {
        "colab": {
          "base_uri": "https://localhost:8080/"
        },
        "id": "Ws07pdz1YLZp",
        "outputId": "28814186-db76-49b3-bdd7-4e47b02400a4"
      },
      "outputs": [
        {
          "output_type": "stream",
          "name": "stdout",
          "text": [
            "Columns before cleaning: Index(['Unnamed: 0', 'manufacturer', 'model', 'displ', 'year', 'cyl', 'trans',\n",
            "       'drv', 'cty', 'hwy', 'fl', 'class'],\n",
            "      dtype='object')\n",
            "First few rows of the dataset:\n",
            "    Unnamed: 0 manufacturer model  displ  year  cyl       trans drv  cty  hwy  \\\n",
            "0           1         audi    a4    1.8  1999    4    auto(l5)   f   18   29   \n",
            "1           2         audi    a4    1.8  1999    4  manual(m5)   f   21   29   \n",
            "2           3         audi    a4    2.0  2008    4  manual(m6)   f   20   31   \n",
            "3           4         audi    a4    2.0  2008    4    auto(av)   f   21   30   \n",
            "4           5         audi    a4    2.8  1999    6    auto(l5)   f   16   26   \n",
            "\n",
            "  fl    class  \n",
            "0  p  compact  \n",
            "1  p  compact  \n",
            "2  p  compact  \n",
            "3  p  compact  \n",
            "4  p  compact  \n",
            "'mpg' column not found in the dataset. Please check the dataset.\n"
          ]
        }
      ],
      "source": [
        "import pandas as pd\n",
        "from sklearn.model_selection import train_test_split\n",
        "from sklearn.linear_model import LinearRegression\n",
        "\n",
        "# Load the dataset\n",
        "auto = pd.read_csv(\"auto-mpg.csv\")  # Adjust the path as needed\n",
        "\n",
        "# Check and print the column names to confirm the correct name\n",
        "print(\"Columns before cleaning:\", auto.columns)\n",
        "\n",
        "# Strip leading/trailing whitespaces from column names to ensure correct case and remove extra spaces\n",
        "auto.columns = auto.columns.str.strip()\n",
        "\n",
        "# Display the first few rows of the dataset to inspect\n",
        "print(\"First few rows of the dataset:\\n\", auto.head())\n",
        "\n",
        "# Check if 'mpg' column exists\n",
        "if 'mpg' in auto.columns:\n",
        "    # Drop the 'car_name' column if it exists (we'll check it explicitly)\n",
        "    if 'car_name' in auto.columns:\n",
        "        auto = auto.drop(columns=['car_name'])\n",
        "\n",
        "    # Now, separate predictors (X) and response variable (y)\n",
        "    X = auto.drop(columns=['mpg'])  # 'mpg' is the response variable\n",
        "    y = auto['mpg']  # 'mpg' is the response variable\n",
        "\n",
        "    # Split the data into training and test sets (80% for training, 20% for testing)\n",
        "    X_train, X_test, y_train, y_test = train_test_split(X, y, test_size=0.2, random_state=42)\n",
        "\n",
        "    # Display the shapes of the resulting sets to confirm the split\n",
        "    print(f\"Training data (X_train): {X_train.shape}\")\n",
        "    print(f\"Test data (X_test): {X_test.shape}\")\n",
        "    print(f\"Training target (y_train): {y_train.shape}\")\n",
        "    print(f\"Test target (y_test): {y_test.shape}\")\n",
        "\n",
        "    # Initialize the Linear Regression model\n",
        "    model = LinearRegression()\n",
        "\n",
        "    # Fit the model to the training data\n",
        "    model.fit(X_train, y_train)\n",
        "\n",
        "    # Display the coefficients and intercept of the fitted model\n",
        "    print(\"Coefficients: \", model.coef_)\n",
        "    print(\"Intercept: \", model.intercept_)\n",
        "\n",
        "else:\n",
        "    print(\"'mpg' column not found in the dataset. Please check the dataset.\")"
      ]
    },
    {
      "cell_type": "markdown",
      "metadata": {
        "id": "yKkAhTKYYLZp"
      },
      "source": [
        "# Challenge 4 - Evaluate the Model\n",
        "\n",
        "the r squared score of a model tells us how much variation is explained by the model. In a typical dataset, most observations differ from the mean. When we create a model, we are trying to generate an equation that will tell us by how much each observation will differ from the mean. Obviously, the vast majority of models are not perfect. They can only predict some of the variation from the mean but not all of it. We attribute the rest of the difference between the actual value and the mean to random error. We would like random error to explain the as little as possible of the variation. This is why the r squared score is an important metric.\n",
        "\n",
        "In the next cell, compute the r squared score of the model. Do this by first computing the predicted values and assign them to `y_pred`."
      ]
    },
    {
      "cell_type": "code",
      "execution_count": 27,
      "metadata": {
        "colab": {
          "base_uri": "https://localhost:8080/"
        },
        "id": "y_HWSAMYYLZp",
        "outputId": "5999e7d6-0d92-469f-f480-3bce6ca6f67d"
      },
      "outputs": [
        {
          "output_type": "stream",
          "name": "stdout",
          "text": [
            "Columns before cleaning: Index(['Unnamed: 0', 'manufacturer', 'model', 'displ', 'year', 'cyl', 'trans',\n",
            "       'drv', 'cty', 'hwy', 'fl', 'class'],\n",
            "      dtype='object')\n",
            "First few rows of the dataset:\n",
            "    Unnamed: 0 manufacturer model  displ  year  cyl       trans drv  cty  hwy  \\\n",
            "0           1         audi    a4    1.8  1999    4    auto(l5)   f   18   29   \n",
            "1           2         audi    a4    1.8  1999    4  manual(m5)   f   21   29   \n",
            "2           3         audi    a4    2.0  2008    4  manual(m6)   f   20   31   \n",
            "3           4         audi    a4    2.0  2008    4    auto(av)   f   21   30   \n",
            "4           5         audi    a4    2.8  1999    6    auto(l5)   f   16   26   \n",
            "\n",
            "  fl    class  \n",
            "0  p  compact  \n",
            "1  p  compact  \n",
            "2  p  compact  \n",
            "3  p  compact  \n",
            "4  p  compact  \n",
            "'mpg' column not found in the dataset. Please check the dataset.\n"
          ]
        }
      ],
      "source": [
        "import pandas as pd\n",
        "from sklearn.model_selection import train_test_split\n",
        "from sklearn.linear_model import LinearRegression\n",
        "\n",
        "# Load the dataset\n",
        "auto = pd.read_csv(\"auto-mpg.csv\")  # Adjust the path as needed\n",
        "\n",
        "# Check and print the column names to confirm the correct name\n",
        "print(\"Columns before cleaning:\", auto.columns)\n",
        "\n",
        "# Strip leading/trailing whitespaces from column names to ensure correct case and remove extra spaces\n",
        "auto.columns = auto.columns.str.strip()\n",
        "\n",
        "# Display the first few rows of the dataset to inspect\n",
        "print(\"First few rows of the dataset:\\n\", auto.head())\n",
        "\n",
        "# Check if 'mpg' column exists\n",
        "if 'mpg' in auto.columns:\n",
        "    # Drop the 'car_name' column if it exists (we'll check it explicitly)\n",
        "    if 'car_name' in auto.columns:\n",
        "        auto = auto.drop(columns=['car_name'])\n",
        "\n",
        "    # Now, separate predictors (X) and response variable (y)\n",
        "    X = auto.drop(columns=['mpg'])  # 'mpg' is the response variable\n",
        "    y = auto['mpg']  # 'mpg' is the response variable\n",
        "\n",
        "    # Split the data into training and test sets (80% for training, 20% for testing)\n",
        "    X_train, X_test, y_train, y_test = train_test_split(X, y, test_size=0.2, random_state=42)\n",
        "\n",
        "    # Display the shapes of the resulting sets to confirm the split\n",
        "    print(f\"Training data (X_train): {X_train.shape}\")\n",
        "    print(f\"Test data (X_test): {X_test.shape}\")\n",
        "    print(f\"Training target (y_train): {y_train.shape}\")\n",
        "    print(f\"Test target (y_test): {y_test.shape}\")\n",
        "\n",
        "    # Initialize the Linear Regression model\n",
        "    model = LinearRegression()\n",
        "\n",
        "    # Fit the model to the training data\n",
        "    model.fit(X_train, y_train)\n",
        "\n",
        "    # Display the coefficients and intercept of the fitted model\n",
        "    print(\"Coefficients: \", model.coef_)\n",
        "    print(\"Intercept: \", model.intercept_)\n",
        "\n",
        "    # Predict the values using the test set\n",
        "    y_pred = model.predict(X_test)\n",
        "\n",
        "    # Compute the R-squared score\n",
        "    r_squared = model.score(X_test, y_test)\n",
        "\n",
        "    # Display the R-squared score\n",
        "    print(f\"R-squared score: {r_squared}\")\n",
        "\n",
        "else:\n",
        "    print(\"'mpg' column not found in the dataset. Please check the dataset.\")"
      ]
    },
    {
      "cell_type": "markdown",
      "metadata": {
        "id": "cia5wtJFYLZq"
      },
      "source": [
        "#### Our next step is to evaluate the model using the test data. We would like to ensure that our model is not overfitting the data. This means that our model will not be able to generalize well outside of the training data.\n",
        "\n",
        "In the cell below, use the model to generate the predicted values for the training data and assign them to `y_test_pred`. Compute the r squared score for the test data by comparing the oberserved `y_train` data and the predicted `y_test_pred`."
      ]
    },
    {
      "cell_type": "code",
      "execution_count": 29,
      "metadata": {
        "colab": {
          "base_uri": "https://localhost:8080/"
        },
        "id": "krMOHRCwYLZq",
        "outputId": "46e7b7b3-1105-432b-9b66-6a6763e934ce"
      },
      "outputs": [
        {
          "output_type": "stream",
          "name": "stdout",
          "text": [
            "Columns before cleaning: Index(['Unnamed: 0', 'manufacturer', 'model', 'displ', 'year', 'cyl', 'trans',\n",
            "       'drv', 'cty', 'hwy', 'fl', 'class'],\n",
            "      dtype='object')\n",
            "First few rows of the dataset:\n",
            "    Unnamed: 0 manufacturer model  displ  year  cyl       trans drv  cty  hwy  \\\n",
            "0           1         audi    a4    1.8  1999    4    auto(l5)   f   18   29   \n",
            "1           2         audi    a4    1.8  1999    4  manual(m5)   f   21   29   \n",
            "2           3         audi    a4    2.0  2008    4  manual(m6)   f   20   31   \n",
            "3           4         audi    a4    2.0  2008    4    auto(av)   f   21   30   \n",
            "4           5         audi    a4    2.8  1999    6    auto(l5)   f   16   26   \n",
            "\n",
            "  fl    class  \n",
            "0  p  compact  \n",
            "1  p  compact  \n",
            "2  p  compact  \n",
            "3  p  compact  \n",
            "4  p  compact  \n",
            "'mpg' column not found in the dataset. Please check the dataset.\n"
          ]
        }
      ],
      "source": [
        "import pandas as pd\n",
        "from sklearn.model_selection import train_test_split\n",
        "from sklearn.linear_model import LinearRegression\n",
        "\n",
        "# Load the dataset\n",
        "auto = pd.read_csv(\"auto-mpg.csv\")  # Adjust the path as needed\n",
        "\n",
        "# Check and print the column names to confirm the correct name\n",
        "print(\"Columns before cleaning:\", auto.columns)\n",
        "\n",
        "# Strip leading/trailing whitespaces from column names to ensure correct case and remove extra spaces\n",
        "auto.columns = auto.columns.str.strip()\n",
        "\n",
        "# Display the first few rows of the dataset to inspect\n",
        "print(\"First few rows of the dataset:\\n\", auto.head())\n",
        "\n",
        "# Check if 'mpg' column exists\n",
        "if 'mpg' in auto.columns:\n",
        "    # Drop the 'car_name' column if it exists (we'll check it explicitly)\n",
        "    if 'car_name' in auto.columns:\n",
        "        auto = auto.drop(columns=['car_name'])\n",
        "\n",
        "    # Now, separate predictors (X) and response variable (y)\n",
        "    X = auto.drop(columns=['mpg'])  # 'mpg' is the response variable\n",
        "    y = auto['mpg']  # 'mpg' is the response variable\n",
        "\n",
        "    # Split the data into training and test sets (80% for training, 20% for testing)\n",
        "    X_train, X_test, y_train, y_test = train_test_split(X, y, test_size=0.2, random_state=42)\n",
        "\n",
        "    # Display the shapes of the resulting sets to confirm the split\n",
        "    print(f\"Training data (X_train): {X_train.shape}\")\n",
        "    print(f\"Test data (X_test): {X_test.shape}\")\n",
        "    print(f\"Training target (y_train): {y_train.shape}\")\n",
        "    print(f\"Test target (y_test): {y_test.shape}\")\n",
        "\n",
        "    # Initialize the Linear Regression model\n",
        "    model = LinearRegression()\n",
        "\n",
        "    # Fit the model to the training data\n",
        "    model.fit(X_train, y_train)\n",
        "\n",
        "    # Display the coefficients and intercept of the fitted model\n",
        "    print(\"Coefficients: \", model.coef_)\n",
        "    print(\"Intercept: \", model.intercept_)\n",
        "\n",
        "\n",
        "    # Generate predictions for the training data\n",
        "    y_train_pred = model.predict(X_train)\n",
        "\n",
        "    # Compute the R-squared score for the training data\n",
        "    r_squared_train = model.score(X_train, y_train)\n",
        "\n",
        "    # Display the R-squared score for the training data\n",
        "    print(f\"R-squared score for the training data: {r_squared_train}\")\n",
        "\n",
        "else:\n",
        "    print(\"'mpg' column not found in the dataset. Please check the dataset.\")"
      ]
    },
    {
      "cell_type": "markdown",
      "metadata": {
        "id": "LIWJiaLvYLZq"
      },
      "source": [
        "# Challenge 5 - Improve the Model Fit\n",
        "\n",
        "While the most common way to improve the fit of a model is by using regularization, there are other simpler ways to improve model fit. The first is to create a simpler model. The second is to increase the train sample size.\n",
        "\n",
        "Let us start with the easier option and increase our train sample size to 90% of the data. Create a new test train split and name the new predictors and response variables `X_train09`, `X_test09`, `y_train09`, `y_test09`."
      ]
    },
    {
      "cell_type": "code",
      "execution_count": 30,
      "metadata": {
        "colab": {
          "base_uri": "https://localhost:8080/"
        },
        "id": "zo2-WfAxYLZq",
        "outputId": "119a7015-5362-40ef-8963-ebafa5d39b64"
      },
      "outputs": [
        {
          "output_type": "stream",
          "name": "stdout",
          "text": [
            "First few rows of the dataset:\n",
            "    Unnamed: 0 manufacturer model  displ  year  cyl       trans drv  cty  hwy  \\\n",
            "0           1         audi    a4    1.8  1999    4    auto(l5)   f   18   29   \n",
            "1           2         audi    a4    1.8  1999    4  manual(m5)   f   21   29   \n",
            "2           3         audi    a4    2.0  2008    4  manual(m6)   f   20   31   \n",
            "3           4         audi    a4    2.0  2008    4    auto(av)   f   21   30   \n",
            "4           5         audi    a4    2.8  1999    6    auto(l5)   f   16   26   \n",
            "\n",
            "  fl    class  \n",
            "0  p  compact  \n",
            "1  p  compact  \n",
            "2  p  compact  \n",
            "3  p  compact  \n",
            "4  p  compact  \n",
            "'mpg' column not found in the dataset. Please check the dataset.\n"
          ]
        }
      ],
      "source": [
        "import pandas as pd\n",
        "from sklearn.model_selection import train_test_split\n",
        "from sklearn.linear_model import LinearRegression\n",
        "\n",
        "# Load the dataset\n",
        "auto = pd.read_csv(\"auto-mpg.csv\")  # Adjust the path as needed\n",
        "\n",
        "# Strip leading/trailing whitespaces from column names to ensure correct case and remove extra spaces\n",
        "auto.columns = auto.columns.str.strip()\n",
        "\n",
        "# Display the first few rows of the dataset to inspect\n",
        "print(\"First few rows of the dataset:\\n\", auto.head())\n",
        "\n",
        "# Check if 'mpg' column exists\n",
        "if 'mpg' in auto.columns:\n",
        "    # Drop the 'car_name' column if it exists (we'll check it explicitly)\n",
        "    if 'car_name' in auto.columns:\n",
        "        auto = auto.drop(columns=['car_name'])\n",
        "\n",
        "    # Now, separate predictors (X) and response variable (y)\n",
        "    X = auto.drop(columns=['mpg'])  # 'mpg' is the response variable\n",
        "    y = auto['mpg']  # 'mpg' is the response variable\n",
        "\n",
        "    # Split the data into training and test sets (90% for training, 10% for testing)\n",
        "    X_train09, X_test09, y_train09, y_test09 = train_test_split(X, y, test_size=0.1, random_state=42)\n",
        "\n",
        "    # Display the shapes of the resulting sets to confirm the split\n",
        "    print(f\"Training data (X_train09): {X_train09.shape}\")\n",
        "    print(f\"Test data (X_test09): {X_test09.shape}\")\n",
        "    print(f\"Training target (y_train09): {y_train09.shape}\")\n",
        "    print(f\"Test target (y_test09): {y_test09.shape}\")\n",
        "\n",
        "else:\n",
        "    print(\"'mpg' column not found in the dataset. Please check the dataset.\")\n"
      ]
    },
    {
      "cell_type": "markdown",
      "metadata": {
        "id": "YVtfSjmHYLZr"
      },
      "source": [
        "Initialize a new model. Name this model `auto_model09`. Fit the model to the new sample data."
      ]
    },
    {
      "cell_type": "markdown",
      "metadata": {
        "id": "sjK5qlVwYLZr"
      },
      "source": [
        "Compute the predicted values and r squared score for our new model and new sample data."
      ]
    },
    {
      "cell_type": "code",
      "execution_count": 31,
      "metadata": {
        "colab": {
          "base_uri": "https://localhost:8080/"
        },
        "id": "jAsQcpJ6YLZr",
        "outputId": "a8b7dd05-fe91-4667-90c5-33898cc23ca7"
      },
      "outputs": [
        {
          "output_type": "stream",
          "name": "stdout",
          "text": [
            "First few rows of the dataset:\n",
            "    Unnamed: 0 manufacturer model  displ  year  cyl       trans drv  cty  hwy  \\\n",
            "0           1         audi    a4    1.8  1999    4    auto(l5)   f   18   29   \n",
            "1           2         audi    a4    1.8  1999    4  manual(m5)   f   21   29   \n",
            "2           3         audi    a4    2.0  2008    4  manual(m6)   f   20   31   \n",
            "3           4         audi    a4    2.0  2008    4    auto(av)   f   21   30   \n",
            "4           5         audi    a4    2.8  1999    6    auto(l5)   f   16   26   \n",
            "\n",
            "  fl    class  \n",
            "0  p  compact  \n",
            "1  p  compact  \n",
            "2  p  compact  \n",
            "3  p  compact  \n",
            "4  p  compact  \n",
            "'mpg' column not found in the dataset. Please check the dataset.\n"
          ]
        }
      ],
      "source": [
        "import pandas as pd\n",
        "from sklearn.model_selection import train_test_split\n",
        "from sklearn.linear_model import LinearRegression\n",
        "\n",
        "# Load the dataset\n",
        "auto = pd.read_csv(\"auto-mpg.csv\")  # Adjust the path as needed\n",
        "\n",
        "# Strip leading/trailing whitespaces from column names to ensure correct case and remove extra spaces\n",
        "auto.columns = auto.columns.str.strip()\n",
        "\n",
        "# Display the first few rows of the dataset to inspect\n",
        "print(\"First few rows of the dataset:\\n\", auto.head())\n",
        "\n",
        "# Check if 'mpg' column exists\n",
        "if 'mpg' in auto.columns:\n",
        "    # Drop the 'car_name' column if it exists (we'll check it explicitly)\n",
        "    if 'car_name' in auto.columns:\n",
        "        auto = auto.drop(columns=['car_name'])\n",
        "\n",
        "    # Now, separate predictors (X) and response variable (y)\n",
        "    X = auto.drop(columns=['mpg'])  # 'mpg' is the response variable\n",
        "    y = auto['mpg']  # 'mpg' is the response variable\n",
        "\n",
        "    # Split the data into training and test sets (90% for training, 10% for testing)\n",
        "    X_train09, X_test09, y_train09, y_test09 = train_test_split(X, y, test_size=0.1, random_state=42)\n",
        "\n",
        "    # Display the shapes of the resulting sets to confirm the split\n",
        "    print(f\"Training data (X_train09): {X_train09.shape}\")\n",
        "    print(f\"Test data (X_test09): {X_test09.shape}\")\n",
        "    print(f\"Training target (y_train09): {y_train09.shape}\")\n",
        "    print(f\"Test target (y_test09): {y_test09.shape}\")\n",
        "\n",
        "    # Initialize the new Linear Regression model\n",
        "    auto_model09 = LinearRegression()\n",
        "\n",
        "    # Fit the model to the new sample data\n",
        "    auto_model09.fit(X_train09, y_train09)\n",
        "\n",
        "    # Display the coefficients and intercept of the fitted model\n",
        "    print(\"Coefficients for auto_model09: \", auto_model09.coef_)\n",
        "    print(\"Intercept for auto_model09: \", auto_model09.intercept_)\n",
        "\n",
        "else:\n",
        "    print(\"'mpg' column not found in the dataset. Please check the dataset.\")\n"
      ]
    },
    {
      "cell_type": "code",
      "execution_count": 33,
      "metadata": {
        "colab": {
          "base_uri": "https://localhost:8080/"
        },
        "id": "7qC8dpDcYLZr",
        "outputId": "ab4180cc-d290-475a-a960-69df16b14394"
      },
      "outputs": [
        {
          "output_type": "stream",
          "name": "stdout",
          "text": [
            "First few rows of the dataset:\n",
            "    Unnamed: 0 manufacturer model  displ  year  cyl       trans drv  cty  hwy  \\\n",
            "0           1         audi    a4    1.8  1999    4    auto(l5)   f   18   29   \n",
            "1           2         audi    a4    1.8  1999    4  manual(m5)   f   21   29   \n",
            "2           3         audi    a4    2.0  2008    4  manual(m6)   f   20   31   \n",
            "3           4         audi    a4    2.0  2008    4    auto(av)   f   21   30   \n",
            "4           5         audi    a4    2.8  1999    6    auto(l5)   f   16   26   \n",
            "\n",
            "  fl    class  \n",
            "0  p  compact  \n",
            "1  p  compact  \n",
            "2  p  compact  \n",
            "3  p  compact  \n",
            "4  p  compact  \n",
            "'mpg' column not found in the dataset. Please check the dataset.\n"
          ]
        }
      ],
      "source": [
        "import pandas as pd\n",
        "from sklearn.model_selection import train_test_split\n",
        "from sklearn.linear_model import LinearRegression\n",
        "\n",
        "# Load the dataset\n",
        "auto = pd.read_csv(\"auto-mpg.csv\")  # Adjust the path as needed\n",
        "\n",
        "# Strip leading/trailing whitespaces from column names to ensure correct case and remove extra spaces\n",
        "auto.columns = auto.columns.str.strip()\n",
        "\n",
        "# Display the first few rows of the dataset to inspect\n",
        "print(\"First few rows of the dataset:\\n\", auto.head())\n",
        "\n",
        "# Check if 'mpg' column exists\n",
        "if 'mpg' in auto.columns:\n",
        "    # Drop the 'car_name' column if it exists (we'll check it explicitly)\n",
        "    if 'car_name' in auto.columns:\n",
        "        auto = auto.drop(columns=['car_name'])\n",
        "\n",
        "    # Now, separate predictors (X) and response variable (y)\n",
        "    X = auto.drop(columns=['mpg'])  # 'mpg' is the response variable\n",
        "    y = auto['mpg']  # 'mpg' is the response variable\n",
        "\n",
        "    # Split the data into training and test sets (90% for training, 10% for testing)\n",
        "    X_train09, X_test09, y_train09, y_test09 = train_test_split(X, y, test_size=0.1, random_state=42)\n",
        "\n",
        "    # Initialize the new Linear Regression model\n",
        "    auto_model09 = LinearRegression()\n",
        "\n",
        "    # Fit the model to the new sample data\n",
        "    auto_model09.fit(X_train09, y_train09)\n",
        "\n",
        "    # Generate predictions for the test data\n",
        "    y_test_pred09 = auto_model09.predict(X_test09)\n",
        "\n",
        "    # Compute the R-squared score for the test data\n",
        "    r_squared_test09 = auto_model09.score(X_test09, y_test09)\n",
        "\n",
        "    # Display the R-squared score and some of the predicted values\n",
        "    print(f\"R-squared score for the test data (auto_model09): {r_squared_test09}\")\n",
        "    print(f\"First few predicted values: {y_test_pred09[:5]}\")\n",
        "\n",
        "else:\n",
        "    print(\"'mpg' column not found in the dataset. Please check the dataset.\")\n"
      ]
    },
    {
      "cell_type": "markdown",
      "metadata": {
        "id": "zPESgK8OYLZs"
      },
      "source": [
        "Compute the r squared score for the smaller test set. Is there an improvement in the test r squared?"
      ]
    },
    {
      "cell_type": "code",
      "execution_count": 35,
      "metadata": {
        "colab": {
          "base_uri": "https://localhost:8080/"
        },
        "id": "jbpVoTuDYLZs",
        "outputId": "1ea6ac30-35bf-46a5-fce3-61aaed64a707"
      },
      "outputs": [
        {
          "output_type": "stream",
          "name": "stdout",
          "text": [
            "First few rows of the dataset:\n",
            "    Unnamed: 0 manufacturer model  displ  year  cyl       trans drv  cty  hwy  \\\n",
            "0           1         audi    a4    1.8  1999    4    auto(l5)   f   18   29   \n",
            "1           2         audi    a4    1.8  1999    4  manual(m5)   f   21   29   \n",
            "2           3         audi    a4    2.0  2008    4  manual(m6)   f   20   31   \n",
            "3           4         audi    a4    2.0  2008    4    auto(av)   f   21   30   \n",
            "4           5         audi    a4    2.8  1999    6    auto(l5)   f   16   26   \n",
            "\n",
            "  fl    class  \n",
            "0  p  compact  \n",
            "1  p  compact  \n",
            "2  p  compact  \n",
            "3  p  compact  \n",
            "4  p  compact  \n",
            "'mpg' column not found in the dataset. Please check the dataset.\n"
          ]
        }
      ],
      "source": [
        "import pandas as pd\n",
        "from sklearn.model_selection import train_test_split\n",
        "from sklearn.linear_model import LinearRegression\n",
        "\n",
        "# Load the dataset\n",
        "auto = pd.read_csv(\"auto-mpg.csv\")  # Adjust the path as needed\n",
        "\n",
        "# Strip leading/trailing whitespaces from column names to ensure correct case and remove extra spaces\n",
        "auto.columns = auto.columns.str.strip()\n",
        "\n",
        "# Display the first few rows of the dataset to inspect\n",
        "print(\"First few rows of the dataset:\\n\", auto.head())\n",
        "\n",
        "# Check if 'mpg' column exists\n",
        "if 'mpg' in auto.columns:\n",
        "    # Drop the 'car_name' column if it exists (we'll check it explicitly)\n",
        "    if 'car_name' in auto.columns:\n",
        "        auto = auto.drop(columns=['car_name'])\n",
        "\n",
        "    # Now, separate predictors (X) and response variable (y)\n",
        "    X = auto.drop(columns=['mpg'])  # 'mpg' is the response variable\n",
        "    y = auto['mpg']  # 'mpg' is the response variable\n",
        "\n",
        "    # Split the data into training and test sets (90% for training, 10% for testing)\n",
        "    X_train09, X_test09, y_train09, y_test09 = train_test_split(X, y, test_size=0.1, random_state=42)\n",
        "\n",
        "    # Initialize the new Linear Regression model\n",
        "    auto_model09 = LinearRegression()\n",
        "\n",
        "    # Fit the model to the new sample data\n",
        "    auto_model09.fit(X_train09, y_train09)\n",
        "\n",
        "    # Compute the R-squared score for the test data (10% for testing)\n",
        "    r_squared_test09 = auto_model09.score(X_test09, y_test09)\n",
        "\n",
        "    # Display the R-squared score for the new test data (10% test set)\n",
        "    print(f\"R-squared score for the smaller test data (auto_model09): {r_squared_test09}\")\n",
        "\n",
        "    # Compare it with the previous R-squared score (from the 20% test set if available)\n",
        "    # You might need to define r_squared_train if it's not available from a previous cell\n",
        "    # For now, we'll just print the R-squared for the 90% training set\n",
        "    print(f\"R-squared score for the training data (auto_model09): {auto_model09.score(X_train09, y_train09)}\")\n",
        "\n",
        "else:\n",
        "    print(\"'mpg' column not found in the dataset. Please check the dataset.\")"
      ]
    },
    {
      "cell_type": "markdown",
      "metadata": {
        "id": "P2W2K28gYLZs"
      },
      "source": [
        "# Bonus Challenge 2 - Backward Elimination\n",
        "\n",
        "The main way to produce a simpler linear regression model is to reduce the number of variables used in the model. In scikit-learn, we can do this by using recursive feature elimination. You can read more about RFE [here](https://scikit-learn.org/stable/modules/generated/sklearn.feature_selection.RFE.html).\n",
        "\n",
        "In the next cell, we will import RFE"
      ]
    },
    {
      "cell_type": "code",
      "execution_count": 1,
      "metadata": {
        "id": "w1lGqUiCYLZs"
      },
      "outputs": [],
      "source": [
        "from sklearn.feature_selection import RFE"
      ]
    },
    {
      "cell_type": "markdown",
      "metadata": {
        "id": "Hvr5P7J7YLZt"
      },
      "source": [
        "Follow the documentation and initialize an RFE model using the `auto_model` linear regression model. Set `n_features_to_select=3`"
      ]
    },
    {
      "cell_type": "code",
      "source": [
        "# Import the necessary library\n",
        "import pandas as pd\n",
        "\n",
        "# Load the dataset\n",
        "auto = pd.read_csv(\"auto-mpg.csv\")  # Adjust the path as needed\n",
        "\n",
        "# Create a new column for 'mpg' as the average of 'cty' and 'hwy'\n",
        "auto['mpg'] = (auto['cty'] + auto['hwy']) / 2\n",
        "\n",
        "# Now you can proceed with the previous steps\n",
        "X = auto.drop(columns=['mpg', 'Unnamed: 0', 'manufacturer', 'model', 'fl', 'class'])  # Drop irrelevant columns\n",
        "y = auto['mpg']\n",
        "\n",
        "# Continue with the rest of the process as before"
      ],
      "metadata": {
        "id": "czGWawVX1EGV"
      },
      "execution_count": 6,
      "outputs": []
    },
    {
      "cell_type": "code",
      "source": [
        "print(\"Columns in the dataset:\", auto.columns)\n"
      ],
      "metadata": {
        "colab": {
          "base_uri": "https://localhost:8080/"
        },
        "id": "FPuDIDW3084K",
        "outputId": "4372d7ae-10fd-4c36-ee7d-4668defd1625"
      },
      "execution_count": 7,
      "outputs": [
        {
          "output_type": "stream",
          "name": "stdout",
          "text": [
            "Columns in the dataset: Index(['Unnamed: 0', 'manufacturer', 'model', 'displ', 'year', 'cyl', 'trans',\n",
            "       'drv', 'cty', 'hwy', 'fl', 'class', 'mpg'],\n",
            "      dtype='object')\n"
          ]
        }
      ]
    },
    {
      "cell_type": "code",
      "execution_count": 9,
      "metadata": {
        "colab": {
          "base_uri": "https://localhost:8080/"
        },
        "id": "IU2IJfK-YLZt",
        "outputId": "29fd9908-096b-4d03-957b-0d8b827f1bd5"
      },
      "outputs": [
        {
          "output_type": "stream",
          "name": "stdout",
          "text": [
            "Selected features: Index(['displ', 'year', 'cyl'], dtype='object')\n",
            "Feature ranking: [1 1 1]\n"
          ]
        }
      ],
      "source": [
        "import pandas as pd\n",
        "from sklearn.model_selection import train_test_split\n",
        "from sklearn.feature_selection import RFE\n",
        "from sklearn.linear_model import LinearRegression\n",
        "\n",
        "# Load the dataset\n",
        "auto = pd.read_csv(\"auto-mpg.csv\")  # Adjust the path as needed\n",
        "\n",
        "# Strip leading/trailing whitespaces from column names\n",
        "auto.columns = auto.columns.str.strip()\n",
        "\n",
        "# Create an 'mpg' column as the average of 'cty' and 'hwy'\n",
        "if 'cty' in auto.columns and 'hwy' in auto.columns:\n",
        "    auto['mpg'] = (auto['cty'] + auto['hwy']) / 2  # Compute average miles per gallon\n",
        "\n",
        "# Drop irrelevant columns\n",
        "columns_to_drop = ['Unnamed: 0', 'manufacturer', 'model', 'trans', 'drv', 'fl', 'class', 'cty', 'hwy']\n",
        "auto = auto.drop(columns=[col for col in columns_to_drop if col in auto.columns])\n",
        "\n",
        "# Separate predictors (X) and response variable (y)\n",
        "X = auto.drop(columns=['mpg'])\n",
        "y = auto['mpg']\n",
        "\n",
        "# Split the data into training and test sets (80% training, 20% testing)\n",
        "X_train, X_test, y_train, y_test = train_test_split(X, y, test_size=0.2, random_state=42)\n",
        "\n",
        "# Initialize the Linear Regression model\n",
        "model = LinearRegression()\n",
        "\n",
        "# Initialize RFE to select the top 3 features\n",
        "rfe = RFE(estimator=model, n_features_to_select=3)\n",
        "\n",
        "# Fit the RFE model to the training data\n",
        "rfe.fit(X_train, y_train)\n",
        "\n",
        "# Get the selected features\n",
        "selected_features = X_train.columns[rfe.support_]\n",
        "\n",
        "# Display the selected features and their rankings\n",
        "print(\"Selected features:\", selected_features)\n",
        "print(\"Feature ranking:\", rfe.ranking_)\n"
      ]
    },
    {
      "cell_type": "markdown",
      "metadata": {
        "id": "g2z31r1LYLZt"
      },
      "source": [
        "Fit the model and print the ranking"
      ]
    },
    {
      "cell_type": "code",
      "execution_count": 10,
      "metadata": {
        "colab": {
          "base_uri": "https://localhost:8080/"
        },
        "id": "YsiTCTsVYLZu",
        "outputId": "243c8038-6fc5-45d8-ee97-d58604949858"
      },
      "outputs": [
        {
          "output_type": "stream",
          "name": "stdout",
          "text": [
            "Selected features: Index(['displ', 'year', 'cyl'], dtype='object')\n",
            "Feature ranking: {'displ': 1, 'year': 1, 'cyl': 1}\n"
          ]
        }
      ],
      "source": [
        "import pandas as pd\n",
        "from sklearn.model_selection import train_test_split\n",
        "from sklearn.feature_selection import RFE\n",
        "from sklearn.linear_model import LinearRegression\n",
        "\n",
        "# Load the dataset\n",
        "auto = pd.read_csv(\"auto-mpg.csv\")  # Adjust the path as needed\n",
        "\n",
        "# Strip leading/trailing whitespaces from column names\n",
        "auto.columns = auto.columns.str.strip()\n",
        "\n",
        "# Create an 'mpg' column as the average of 'cty' and 'hwy'\n",
        "if 'cty' in auto.columns and 'hwy' in auto.columns:\n",
        "    auto['mpg'] = (auto['cty'] + auto['hwy']) / 2  # Compute average miles per gallon\n",
        "\n",
        "# Drop irrelevant columns (categorical & unnecessary ones)\n",
        "columns_to_drop = ['Unnamed: 0', 'manufacturer', 'model', 'trans', 'drv', 'fl', 'class', 'cty', 'hwy']\n",
        "auto = auto.drop(columns=[col for col in columns_to_drop if col in auto.columns])\n",
        "\n",
        "# Separate predictors (X) and response variable (y)\n",
        "X = auto.drop(columns=['mpg'])\n",
        "y = auto['mpg']\n",
        "\n",
        "# Split the data into training and test sets (80% training, 20% testing)\n",
        "X_train, X_test, y_train, y_test = train_test_split(X, y, test_size=0.2, random_state=42)\n",
        "\n",
        "# Initialize the Linear Regression model\n",
        "model = LinearRegression()\n",
        "\n",
        "# Initialize RFE to select the top 3 features\n",
        "rfe = RFE(estimator=model, n_features_to_select=3)\n",
        "\n",
        "# Fit the RFE model to the training data\n",
        "rfe.fit(X_train, y_train)\n",
        "\n",
        "# Get the selected features\n",
        "selected_features = X_train.columns[rfe.support_]\n",
        "\n",
        "# Print the selected features and ranking of all features\n",
        "print(\"Selected features:\", selected_features)\n",
        "print(\"Feature ranking:\", dict(zip(X_train.columns, rfe.ranking_)))\n"
      ]
    },
    {
      "cell_type": "markdown",
      "metadata": {
        "id": "Zsuh_UMoYLZu"
      },
      "source": [
        "Feature importance is ranked from most important (1) to least important (4). Generate a model with the three most important features. The features correspond to variable names. For example, feature 1 is `cylinders` and feature 2 is `displacement`.\n",
        "\n",
        "Perform a test-train split on this reduced column data and call the split data `X_train_reduced`, `X_test_reduced`, `y_test_reduced`, `y_train_reduced`. Use an 80% split."
      ]
    },
    {
      "cell_type": "code",
      "execution_count": 11,
      "metadata": {
        "colab": {
          "base_uri": "https://localhost:8080/"
        },
        "id": "xOSWiAvxYLZv",
        "outputId": "a06cb1c0-bfdd-4183-fc32-79ca360e9de0"
      },
      "outputs": [
        {
          "output_type": "stream",
          "name": "stdout",
          "text": [
            "Selected features: Index(['displ', 'year', 'cyl'], dtype='object')\n",
            "Feature ranking: {'displ': 1, 'year': 1, 'cyl': 1}\n"
          ]
        }
      ],
      "source": [
        "import pandas as pd\n",
        "from sklearn.model_selection import train_test_split\n",
        "from sklearn.linear_model import LinearRegression\n",
        "from sklearn.feature_selection import RFE\n",
        "\n",
        "# Load the dataset\n",
        "auto = pd.read_csv(\"auto-mpg.csv\")  # Adjust the path as needed\n",
        "\n",
        "# Strip leading/trailing whitespaces from column names\n",
        "auto.columns = auto.columns.str.strip()\n",
        "\n",
        "# Create an 'mpg' column as the average of 'cty' and 'hwy' if it doesn't exist\n",
        "if 'cty' in auto.columns and 'hwy' in auto.columns:\n",
        "    auto['mpg'] = (auto['cty'] + auto['hwy']) / 2  # Compute average miles per gallon\n",
        "\n",
        "# Drop irrelevant columns (categorical & unnecessary ones)\n",
        "columns_to_drop = ['Unnamed: 0', 'manufacturer', 'model', 'trans', 'drv', 'fl', 'class', 'cty', 'hwy']\n",
        "auto = auto.drop(columns=[col for col in columns_to_drop if col in auto.columns])\n",
        "\n",
        "# Separate predictors (X) and response variable (y)\n",
        "X = auto.drop(columns=['mpg'])\n",
        "y = auto['mpg']\n",
        "\n",
        "# Split the data into training and test sets (80% training, 20% testing)\n",
        "X_train, X_test, y_train, y_test = train_test_split(X, y, test_size=0.2, random_state=42)\n",
        "\n",
        "# Initialize the Linear Regression model\n",
        "model = LinearRegression()\n",
        "\n",
        "# Initialize RFE to select the top 3 features\n",
        "rfe = RFE(estimator=model, n_features_to_select=3)\n",
        "\n",
        "# Fit the RFE model to the training data\n",
        "rfe.fit(X_train, y_train)\n",
        "\n",
        "# Get the selected features\n",
        "selected_features = X_train.columns[rfe.support_]\n",
        "\n",
        "# Print selected features and ranking\n",
        "print(\"Selected features:\", selected_features)\n",
        "print(\"Feature ranking:\", dict(zip(X_train.columns, rfe.ranking_)))\n",
        "\n",
        "# Reduce dataset to only selected features\n",
        "X_train_reduced = X_train[selected_features]\n",
        "X_test_reduced = X_test[selected_features]\n",
        "y_train_reduced = y_train\n",
        "y_test_reduced = y_test\n"
      ]
    },
    {
      "cell_type": "markdown",
      "metadata": {
        "id": "32KLobtFYLZv"
      },
      "source": [
        "Generate a new model called `auto_model_reduced` and fit this model. Then proceed to compute the r squared score for the model. Did this cause an improvement in the r squared score?"
      ]
    },
    {
      "cell_type": "code",
      "execution_count": 43,
      "metadata": {
        "colab": {
          "base_uri": "https://localhost:8080/"
        },
        "id": "xaIEZlWaYLZv",
        "outputId": "b7677266-cb3a-4e1a-fd91-d2d52e383abd"
      },
      "outputs": [
        {
          "output_type": "stream",
          "name": "stdout",
          "text": [
            "Columns in the dataset: Index(['Unnamed: 0', 'manufacturer', 'model', 'displ', 'year', 'cyl', 'trans',\n",
            "       'drv', 'cty', 'hwy', 'fl', 'class'],\n",
            "      dtype='object')\n",
            "'mpg' column not found in the dataset. Please check the dataset.\n"
          ]
        }
      ],
      "source": [
        "import pandas as pd\n",
        "\n",
        "# Load the dataset\n",
        "auto = pd.read_csv(\"auto-mpg.csv\")  # Adjust the path as needed\n",
        "\n",
        "# Strip leading/trailing whitespaces from column names to ensure correct case and remove extra spaces\n",
        "auto.columns = auto.columns.str.strip()\n",
        "\n",
        "# Print the column names to check if 'mpg' is present\n",
        "print(\"Columns in the dataset:\", auto.columns)\n",
        "\n",
        "# Check if 'mpg' column exists\n",
        "if 'mpg' in auto.columns:\n",
        "    # Drop the 'car_name' column if it exists (we'll check it explicitly)\n",
        "    if 'car_name' in auto.columns:\n",
        "        auto = auto.drop(columns=['car_name'])\n",
        "\n",
        "    # Now, separate predictors (X) and response variable (y)\n",
        "    X = auto.drop(columns=['mpg'])  # 'mpg' is the response variable\n",
        "    y = auto['mpg']  # 'mpg' is the response variable\n",
        "\n",
        "    # Continue with the rest of the process\n",
        "else:\n",
        "    print(\"'mpg' column not found in the dataset. Please check the dataset.\")\n"
      ]
    }
  ],
  "metadata": {
    "kernelspec": {
      "display_name": "Python 3 (ipykernel)",
      "language": "python",
      "name": "python3"
    },
    "language_info": {
      "codemirror_mode": {
        "name": "ipython",
        "version": 3
      },
      "file_extension": ".py",
      "mimetype": "text/x-python",
      "name": "python",
      "nbconvert_exporter": "python",
      "pygments_lexer": "ipython3",
      "version": "3.12.4"
    },
    "colab": {
      "provenance": []
    }
  },
  "nbformat": 4,
  "nbformat_minor": 0
}